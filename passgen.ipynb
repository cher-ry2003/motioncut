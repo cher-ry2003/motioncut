{
 "cells": [
  {
   "cell_type": "code",
   "execution_count": null,
   "id": "3a4a187f-10d9-44a9-9540-c41f81008947",
   "metadata": {},
   "outputs": [],
   "source": []
  },
  {
   "cell_type": "code",
   "execution_count": null,
   "id": "dd5c4025-869e-4051-a53f-0d02575904c2",
   "metadata": {},
   "outputs": [],
   "source": [
    "#Random password generator\n"
   ]
  },
  {
   "cell_type": "markdown",
   "id": "ef2f748e-35e3-49fd-b1f3-caee2d24dd38",
   "metadata": {},
   "source": [
    "## import string\n",
    "import random\n",
    "len=int(input(\"Enter length of password\"))\n",
    "lower=string.ascii_lowercase\n",
    "upper=string.ascii_uppercase\n",
    "digits=string.digits\n",
    "symbols=string.punctuation\n",
    "str=lower+upper+digits+symbols\n",
    "print(str)\n",
    "pwd=random.sample(str,len)\n",
    "print(pwd)\n",
    "password=\"\".join(pwd)\n",
    "print(password) "
   ]
  },
  {
   "cell_type": "code",
   "execution_count": 13,
   "id": "b311cf66-8bb6-4500-a239-ce16be8a9458",
   "metadata": {},
   "outputs": [
    {
     "name": "stdin",
     "output_type": "stream",
     "text": [
      "enter no.of lowercase characters 2\n",
      "enter no of uppercase characters 2\n",
      "enter no. of digits 2\n",
      "enter no of symbols 2\n"
     ]
    },
    {
     "name": "stdout",
     "output_type": "stream",
     "text": [
      "password is e0HDu~]1\n"
     ]
    }
   ],
   "source": [
    "import string\n",
    "import random\n",
    "lower_len=int(input(\"enter no.of lowercase characters\"))\n",
    "upper_len=int(input(\"enter no of uppercase characters\"))\n",
    "digit_len=int(input(\"enter no. of digits\"))\n",
    "symbol_len=int(input(\"enter no of symbols\"))\n",
    "pwd_len=lower_len+upper_len+digit_len+symbol_len\n",
    "lower=string.ascii_lowercase\n",
    "upper=string.ascii_uppercase\n",
    "digit=string.digits\n",
    "symbol=string.punctuation\n",
    "str=random.choices(lower,k=lower_len)+random.choices(upper,k=upper_len)+random.choices(digit,k=digit_len)+random.choices(symbol,k=symbol_len) \n",
    "random.shuffle(str)\n",
    "password=\"\".join(str)\n",
    "print(\"password is \"+password)\n"
   ]
  },
  {
   "cell_type": "code",
   "execution_count": null,
   "id": "a8f4c821-5443-4bd9-8c78-43d0fcac6294",
   "metadata": {},
   "outputs": [],
   "source": []
  }
 ],
 "metadata": {
  "kernelspec": {
   "display_name": "Python 3 (ipykernel)",
   "language": "python",
   "name": "python3"
  },
  "language_info": {
   "codemirror_mode": {
    "name": "ipython",
    "version": 3
   },
   "file_extension": ".py",
   "mimetype": "text/x-python",
   "name": "python",
   "nbconvert_exporter": "python",
   "pygments_lexer": "ipython3",
   "version": "3.11.5"
  }
 },
 "nbformat": 4,
 "nbformat_minor": 5
}
